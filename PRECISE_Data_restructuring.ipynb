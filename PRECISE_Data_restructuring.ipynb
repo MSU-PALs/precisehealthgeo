{
 "cells": [
  {
   "cell_type": "markdown",
   "id": "b043618f-9bf2-48a8-a0bd-50aa02d9d341",
   "metadata": {},
   "source": [
    "## Worflow for PRECISE Data in restructured format\n",
    "\n",
    "This workflow is for the PRECISE ANC surveillance data in the final format (restructured) which will be used for future data sharing.\n",
    "Combined ANC surveillance data for all 3 sites (Gambia, Kenya and Mozambique) is contained in separate .dta files"
   ]
  },
  {
   "cell_type": "code",
   "execution_count": 1,
   "id": "66d77b23-5046-4949-af1e-7ada6cd1c05b",
   "metadata": {},
   "outputs": [],
   "source": [
    "%load_ext autoreload\n",
    "%autoreload 2"
   ]
  },
  {
   "cell_type": "code",
   "execution_count": 2,
   "id": "d7ea443f-cbee-454e-8f8d-2037da5c3393",
   "metadata": {},
   "outputs": [],
   "source": [
    "import warnings\n",
    "warnings.simplefilter(action='ignore', category=UserWarning)\n",
    "import os\n",
    "import pandas as pd\n",
    "import numpy as np\n",
    "from datetime import timedelta as td\n",
    "from DataAnalyst.precise import Precise, Tracer, extract_villages"
   ]
  },
  {
   "cell_type": "code",
   "execution_count": 3,
   "id": "d85d3719-cbcd-48e5-bda4-51d9790cc7b7",
   "metadata": {},
   "outputs": [],
   "source": [
    "root_dir=r\"G:\\My Drive\\PRECISE_surveillance_data\\Precise_structured_data_032023\""
   ]
  },
  {
   "cell_type": "code",
   "execution_count": 4,
   "id": "7d36c700-84ee-437e-bab4-3d38d6ebfc98",
   "metadata": {
    "tags": []
   },
   "outputs": [],
   "source": [
    "cols1=[\n",
    "    #profile info\n",
    "    'f2a_participant_id', 'f2_visit_date', 'f2_ga_at_visit', 'redcap_event_name',\n",
    "    #spatial access indicators\n",
    "    'f2_location_from', 'f2_location_from_name', \n",
    "    'f2_location_from_other', 'f2_mode_of_transport_1_4', 'f2_mode_of_transport_other_1_4', \n",
    "    'f2_travel_duration', 'f2_woman_addr', 'country'\n",
    "]\n",
    "cols2=[\n",
    "    #sociogeo indicators\n",
    "    'f2a_participant_id', 'f3_highest_school_level', 'f3_religion', 'f3_marital_status', \n",
    "    'f3_live_with_partner', 'f3_occupation', 'f3_duration_of_living_together', 'f3_year_of_birth'\n",
    "]\n",
    "cols3=[\n",
    "    #sociogeo indicators\n",
    "    #3 variable names have been truncated during conversion from ODK to stata\n",
    "    'f2a_participant_id', 'f3_neighbor_help_pregnancy_probl', 'f3_form_of_help_received', 'f3_community_help_pregnancy_prob',\n",
    "    'f3_participation_in_community_gr', 'f3_decision_maker_money', 'f3_decision_maker_pregnancy', \n",
    "    'f3_woman_has_money_for_transport', 'f3_toilet_facility'\n",
    "]\n",
    "gen_info=pd.read_stata(os.path.join(root_dir, \"T02_general_info.dta\"), index_col='f2a_participant_id', convert_categoricals=False)\n",
    "baseline=pd.read_stata(os.path.join(root_dir, 'T03_baseline_maternal.dta'), index_col='f2a_participant_id', columns=cols2)\n",
    "enviro=pd.read_stata(os.path.join(root_dir, 'T04_environment.dta'), index_col='f2a_participant_id', columns=cols3)\n",
    "# [(gen_info['redcap_event_name']=='postpartum_mother_arm_1')"
   ]
  },
  {
   "cell_type": "code",
   "execution_count": 9,
   "id": "296de344-9023-4ffd-af85-772d77384548",
   "metadata": {},
   "outputs": [],
   "source": [
    "countries={\n",
    "    'The Gambia': 'gm',\n",
    "    'Kenya': 'ke',\n",
    "    'Mozambique': 'mz'\n",
    "}\n",
    "def split_visits(country):\n",
    "   \n",
    "    cols=cols1.copy()\n",
    "    if country=='Mozambique':\n",
    "        cols.extend(gen_info.filter(like='f2_{}_n'.format(countries[country])).columns.to_list())\n",
    "    else:\n",
    "        cols.extend(gen_info.filter(like='f2_{}_v'.format(countries[country])).columns.to_list())\n",
    "    \n",
    "    df=pd.read_stata(os.path.join(root_dir, \"T02_general_info.dta\"), index_col='f2a_participant_id', columns=cols)\n",
    "    df=(df.merge(baseline, on='f2a_participant_id', validate='m:1')\n",
    "       .merge(enviro, on='f2a_participant_id', validate='m:1'))\n",
    "    for v in ['precise_visit_1_arm_1', 'precise_visit_2_arm_1', 'birth_mother_arm_1', 'postpartum_mother_arm_1']:\n",
    "        df[(df['country']==country)&(df['redcap_event_name']==v)].to_csv(os.path.join(root_dir, country, v+\".csv\"))\n",
    "    return"
   ]
  },
  {
   "cell_type": "code",
   "execution_count": 10,
   "id": "81934ed4-4cc3-4aea-9f1b-b8dbfd485d69",
   "metadata": {},
   "outputs": [],
   "source": [
    "for country in countries: split_visits(country) "
   ]
  },
  {
   "cell_type": "code",
   "execution_count": null,
   "id": "9d4af2f4-9e66-426e-8fe1-56010252d1b2",
   "metadata": {},
   "outputs": [],
   "source": []
  }
 ],
 "metadata": {
  "kernelspec": {
   "display_name": "Python 3 (ipykernel)",
   "language": "python",
   "name": "python3"
  },
  "language_info": {
   "codemirror_mode": {
    "name": "ipython",
    "version": 3
   },
   "file_extension": ".py",
   "mimetype": "text/x-python",
   "name": "python",
   "nbconvert_exporter": "python",
   "pygments_lexer": "ipython3",
   "version": "3.9.18"
  }
 },
 "nbformat": 4,
 "nbformat_minor": 5
}
